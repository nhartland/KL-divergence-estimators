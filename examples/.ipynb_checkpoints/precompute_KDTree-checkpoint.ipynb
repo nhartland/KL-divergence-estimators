{
 "cells": [
  {
   "cell_type": "code",
   "execution_count": 1,
   "id": "f1afa84d-0b3e-41f6-8257-abda79c30621",
   "metadata": {},
   "outputs": [],
   "source": [
    "from kl_divergence_estimators import scipy_estimator\n",
    "from scipy.spatial import KDTree\n",
    "import numpy as np\n",
    "from time import time\n"
   ]
  },
  {
   "cell_type": "markdown",
   "id": "b09e95dd-ae60-4311-8ed1-4b0a01583cc5",
   "metadata": {},
   "source": [
    "# Precomputing KDTree\n",
    "\n",
    "When reusing a dataset for multiple runs, the KDTree does not have to be computed every time. It can be precomputed and reused for another run."
   ]
  },
  {
   "cell_type": "code",
   "execution_count": 2,
   "id": "0fcb32db-53e2-4900-8868-67d799d61e73",
   "metadata": {},
   "outputs": [
    {
     "name": "stdout",
     "output_type": "stream",
     "text": [
      "1.4391172398704062\n",
      "1.4382586999301572\n",
      "1.4373010643243078\n",
      "1.4374791076545637\n",
      "1.4324344623527836\n",
      "1.4357256597020345\n",
      "1.4354619501719903\n",
      "1.4304329402102527\n",
      "1.4335127985258547\n",
      "1.4324976586118956\n"
     ]
    }
   ],
   "source": [
    "# Use case\n",
    "\n",
    "N = 200000\n",
    "mu1, mu2, sigma1, sigma2 = 0, 3, 1, 2\n",
    "\n",
    "Q = np.random.normal(mu2, sigma2, (N, 1))\n",
    "kd_q = KDTree(Q)\n",
    "\n",
    "for i in range(10):\n",
    "    P = np.random.normal(mu1, sigma1, (N, 1))\n",
    "    print(scipy_estimator(s1=P, s2=Q, k=2, kd_tree_s2=kd_q))"
   ]
  },
  {
   "cell_type": "code",
   "execution_count": 3,
   "id": "c7978d54-90f6-4e92-91ee-d7494377ab8f",
   "metadata": {},
   "outputs": [
    {
     "name": "stdout",
     "output_type": "stream",
     "text": [
      "Standard mean: 0.318s, std:0.007s\n",
      "Precompute mean: 0.282s, std:0.008s\n",
      "Average Speedup of 11.2%\n"
     ]
    }
   ],
   "source": [
    "# Testing speedup\n",
    "\n",
    "t_standard = []\n",
    "t_precompute = []\n",
    "\n",
    "for i in range(20):\n",
    "    Q = np.random.normal(mu2, sigma2, (N, 1))\n",
    "    P = np.random.normal(mu1, sigma1, (N, 1))\n",
    "    \n",
    "    t0 = time()\n",
    "    e = scipy_estimator(P, Q, k=2)\n",
    "    t_standard.append(time()-t0)\n",
    "\n",
    "    kd_q = KDTree(Q)\n",
    "    t0 = time()\n",
    "    e = scipy_estimator(s1=P, s2=Q, k=2, kd_tree_s2=kd_q)\n",
    "    t_precompute.append(time()-t0)\n",
    "    \n",
    "print(f\"Standard mean: {np.mean(t_standard):.3f}s, std:{np.std(t_standard):.3f}s\")\n",
    "print(f\"Precompute mean: {np.mean(t_precompute):.3f}s, std:{np.std(t_precompute):.3f}s\")\n",
    "\n",
    "t_standard, t_precompute = np.mean(t_standard), np.mean(t_precompute)\n",
    "\n",
    "print(f\"Average Speedup of {((t_standard-t_precompute)*100)/t_standard:.1f}%\")"
   ]
  }
 ],
 "metadata": {
  "kernelspec": {
   "display_name": "Python 3 (ipykernel)",
   "language": "python",
   "name": "python3"
  },
  "language_info": {
   "codemirror_mode": {
    "name": "ipython",
    "version": 3
   },
   "file_extension": ".py",
   "mimetype": "text/x-python",
   "name": "python",
   "nbconvert_exporter": "python",
   "pygments_lexer": "ipython3",
   "version": "3.9.18"
  }
 },
 "nbformat": 4,
 "nbformat_minor": 5
}
