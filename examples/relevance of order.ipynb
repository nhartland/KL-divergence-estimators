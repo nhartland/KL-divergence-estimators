{
 "cells": [
  {
   "cell_type": "code",
   "execution_count": 11,
   "id": "e88dbc00-1b49-4ff4-8b79-1f2c52523d2e",
   "metadata": {},
   "outputs": [
    {
     "name": "stdout",
     "output_type": "stream",
     "text": [
      "(1000, 2) (1000, 2)\n",
      "standard order\n",
      "naive_estimator:12.368\n",
      "scipy_estimator:12.368\n",
      "skl_estimator:12.368\n",
      "skl_efficient:12.368\n",
      "shuffeled\n",
      "naive_estimator:12.368\n",
      "scipy_estimator:12.368\n",
      "skl_estimator:12.368\n",
      "skl_efficient:12.368\n"
     ]
    }
   ],
   "source": [
    "from kl_divergence_estimators import (\n",
    "    naive_estimator,\n",
    "    scipy_estimator,\n",
    "    skl_estimator,\n",
    "    skl_efficient,\n",
    "\n",
    ")\n",
    "import numpy as np\n",
    "\n",
    "N = 1000\n",
    "P = np.stack([np.linspace(0,10, N), np.linspace(2, 20,N)]).T\n",
    "Q = np.stack([np.linspace(-10,7, N), np.linspace(2, 40,N)]).T\n",
    "print(P.shape, Q.shape)\n",
    "\n",
    "print(\"standard order\")\n",
    "for estimator in [naive_estimator, scipy_estimator, skl_estimator, skl_efficient]:\n",
    "    e= estimator(P, Q, k=2)\n",
    "    print(f\"{estimator.__name__}:{e:.3f}\")\n",
    "\n",
    "np.random.shuffle(P)\n",
    "np.random.shuffle(Q)\n",
    "\n",
    "print(\"shuffeled\")\n",
    "for estimator in [naive_estimator, scipy_estimator, skl_estimator, skl_efficient]:\n",
    "    e= estimator(P, Q, k=2)\n",
    "    print(f\"{estimator.__name__}:{e:.3f}\")\n"
   ]
  },
  {
   "cell_type": "code",
   "execution_count": null,
   "id": "8ea313d0-3d36-4208-9789-29ce5b5fe837",
   "metadata": {},
   "outputs": [],
   "source": []
  }
 ],
 "metadata": {
  "kernelspec": {
   "display_name": "Python 3 (ipykernel)",
   "language": "python",
   "name": "python3"
  },
  "language_info": {
   "codemirror_mode": {
    "name": "ipython",
    "version": 3
   },
   "file_extension": ".py",
   "mimetype": "text/x-python",
   "name": "python",
   "nbconvert_exporter": "python",
   "pygments_lexer": "ipython3",
   "version": "3.9.18"
  }
 },
 "nbformat": 4,
 "nbformat_minor": 5
}
