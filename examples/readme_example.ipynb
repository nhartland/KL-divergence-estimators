{
 "cells": [
  {
   "cell_type": "code",
   "execution_count": 1,
   "id": "bda1059f-a98e-4158-a306-fbc2bb88c2d0",
   "metadata": {},
   "outputs": [
    {
     "name": "stdout",
     "output_type": "stream",
     "text": [
      "Exact divergence 1.4431471805599454\n",
      "naive_estimator estimated D(P||Q) = 1.478 in 2.153s\n",
      "scipy_estimator estimated D(P||Q) = 1.478 in 0.006s\n",
      "skl_estimator estimated D(P||Q) = 1.478 in 2.780s\n",
      "skl_efficient estimated D(P||Q) = 1.478 in 0.009s\n"
     ]
    }
   ],
   "source": [
    "from kl_divergence_estimators import (\n",
    "    naive_estimator,\n",
    "    scipy_estimator,\n",
    "    skl_estimator,\n",
    "    skl_efficient,\n",
    "    gaussian_divergence,\n",
    ")\n",
    "import numpy as np\n",
    "from time import time\n",
    "\n",
    "N = 5000\n",
    "mu1, mu2, sigma1, sigma2 = 0, 3, 1, 2\n",
    "P = np.random.normal(mu1, sigma1, (N, 1))\n",
    "Q = np.random.normal(mu2, sigma2, (N, 1))\n",
    "\n",
    "print(f\"Exact divergence {gaussian_divergence(mu1, mu2, sigma1, sigma2)}\")\n",
    "\n",
    "for estimator in [naive_estimator, scipy_estimator, skl_estimator, skl_efficient]:\n",
    "    t0 = time()\n",
    "    e = estimator(P, Q, k=2)\n",
    "    print(f\"{estimator.__name__} estimated D(P||Q) = {e:.3f} in {time()-t0:.3f}s\")"
   ]
  },
  {
   "cell_type": "code",
   "execution_count": null,
   "id": "7de9a3a2-6703-49e7-9c97-da5ea5493d5a",
   "metadata": {},
   "outputs": [],
   "source": []
  }
 ],
 "metadata": {
  "kernelspec": {
   "display_name": "Python 3 (ipykernel)",
   "language": "python",
   "name": "python3"
  },
  "language_info": {
   "codemirror_mode": {
    "name": "ipython",
    "version": 3
   },
   "file_extension": ".py",
   "mimetype": "text/x-python",
   "name": "python",
   "nbconvert_exporter": "python",
   "pygments_lexer": "ipython3",
   "version": "3.9.18"
  }
 },
 "nbformat": 4,
 "nbformat_minor": 5
}
